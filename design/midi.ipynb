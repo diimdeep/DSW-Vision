{
 "cells": [
  {
   "cell_type": "code",
   "execution_count": null,
   "metadata": {},
   "outputs": [],
   "source": [
    "#https://github.com/sixohsix/simplecoremidi\n",
    "from simplecoremidi import send_midi\n",
    "send_midi((0x90, 0x3c, 0x40))"
   ]
  },
  {
   "cell_type": "code",
   "execution_count": null,
   "metadata": {},
   "outputs": [],
   "source": [
    "# sending data over midi LOL\n",
    "from simplecoremidi import send_midi\n",
    "from time import sleep\n",
    "\n",
    "def play_a_scale():\n",
    "    root_note = 60  # This is middle C\n",
    "    channel = 1  # This is MIDI channel 1\n",
    "    note_on_action = 0x90\n",
    "    major_steps = [2, 2, 1, 2, 2, 2, 1, 0]\n",
    "    velocity = 127\n",
    "\n",
    "    note = root_note\n",
    "    for step in major_steps:\n",
    "        send_midi((note_on_action | channel,\n",
    "                   note,\n",
    "                   velocity))\n",
    "        sleep(0.1)\n",
    "        send_midi((note_on_action | channel,\n",
    "                   note,\n",
    "                   0))  # A note-off is just a note-on with velocity 0\n",
    "\n",
    "        note += step\n",
    "        sleep(0.2)\n",
    "\n",
    "\n",
    "play_a_scale()"
   ]
  }
 ],
 "metadata": {
  "kernelspec": {
   "display_name": "Python 3",
   "language": "python",
   "name": "python3"
  },
  "language_info": {
   "codemirror_mode": {
    "name": "ipython",
    "version": 3
   },
   "file_extension": ".py",
   "mimetype": "text/x-python",
   "name": "python",
   "nbconvert_exporter": "python",
   "pygments_lexer": "ipython3",
   "version": "3.7.2"
  }
 },
 "nbformat": 4,
 "nbformat_minor": 2
}
